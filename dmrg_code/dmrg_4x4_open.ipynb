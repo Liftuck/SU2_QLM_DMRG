{
 "cells": [
  {
   "cell_type": "code",
   "execution_count": 106,
   "metadata": {},
   "outputs": [],
   "source": [
    "using ITensors, ITensorMPS"
   ]
  },
  {
   "cell_type": "code",
   "execution_count": 107,
   "metadata": {},
   "outputs": [],
   "source": [
    "ITensors.space(::SiteType\"site_basis\") = 4;\n",
    "\n",
    "ITensors.state(::StateName\"0\", ::SiteType\"site_basis\") = [1.0,0,0,0]\n",
    "ITensors.state(::StateName\"1\", ::SiteType\"site_basis\") = [0,1.0,0,0]\n",
    "ITensors.state(::StateName\"2\", ::SiteType\"site_basis\") = [0,0,1.0,0]\n",
    "ITensors.state(::StateName\"3\", ::SiteType\"site_basis\") = [0,0,0,1.0]\n",
    "\n",
    "ITensors.op(::OpName\"0to1\",::SiteType\"site_basis\")=\n",
    "    [ 0   0   0   0\n",
    "      1   0   0   0\n",
    "      0   0   0   0\n",
    "      0   0   0   0 ]\n",
    "\n",
    "ITensors.op(::OpName\"0to2\",::SiteType\"site_basis\")=\n",
    "    [ 0   0   0   0\n",
    "      0   0   0   0\n",
    "      1   0   0   0\n",
    "      0   0   0   0 ]\n",
    "\n",
    "ITensors.op(::OpName\"0to3\",::SiteType\"site_basis\")=\n",
    "    [ 0   0   0   0\n",
    "      0   0   0   0\n",
    "      0   0   0   0\n",
    "      1   0   0   0 ]\n",
    "\n",
    "\n",
    "\n",
    "ITensors.op(::OpName\"1to0\",::SiteType\"site_basis\")=\n",
    "    [ 0   1   0   0\n",
    "      0   0   0   0\n",
    "      0   0   0   0\n",
    "      0   0   0   0 ]\n",
    "\n",
    "ITensors.op(::OpName\"1to2\",::SiteType\"site_basis\")=\n",
    "    [ 0   0   0   0\n",
    "      0   0   0   0\n",
    "      0   1   0   0\n",
    "      0   0   0   0 ]\n",
    "\n",
    "ITensors.op(::OpName\"1to3\",::SiteType\"site_basis\")=\n",
    "    [ 0   0   0   0\n",
    "      0   0   0   0\n",
    "      0   0   0   0\n",
    "      0   1   0   0 ]\n",
    "\n",
    "\n",
    "\n",
    "ITensors.op(::OpName\"2to0\",::SiteType\"site_basis\")=\n",
    "    [ 0   0   1   0\n",
    "      0   0   0   0\n",
    "      0   0   0   0\n",
    "      0   0   0   0 ]\n",
    "\n",
    "ITensors.op(::OpName\"2to1\",::SiteType\"site_basis\")=\n",
    "    [ 0   0   0   0\n",
    "      0   0   1   0\n",
    "      0   0   0   0\n",
    "      0   0   0   0 ]\n",
    "\n",
    "ITensors.op(::OpName\"2to3\",::SiteType\"site_basis\")=\n",
    "    [ 0   0   0   0\n",
    "      0   0   0   0\n",
    "      0   0   0   0\n",
    "      0   0   1   0 ]\n",
    "\n",
    "\n",
    "\n",
    "\n",
    "ITensors.op(::OpName\"3to0\",::SiteType\"site_basis\")=\n",
    "    [ 0   0   0   1\n",
    "      0   0   0   0\n",
    "      0   0   0   0\n",
    "      0   0   0   0 ]\n",
    "\n",
    "ITensors.op(::OpName\"3to1\",::SiteType\"site_basis\")=\n",
    "    [ 0   0   0   0\n",
    "      0   0   0   1\n",
    "      0   0   0   0\n",
    "      0   0   0   0 ]\n",
    "\n",
    "ITensors.op(::OpName\"3to2\",::SiteType\"site_basis\")=\n",
    "    [ 0   0   0   0\n",
    "      0   0   0   0\n",
    "      0   0   0   1\n",
    "      0   0   0   0 ]\n",
    "\n",
    "\n",
    "\n",
    "ITensors.op(::OpName\"p0\",::SiteType\"site_basis\")=\n",
    "    [ 1   0   0   0\n",
    "      0   0   0   0\n",
    "      0   0   0   0\n",
    "      0   0   0   0 ]\n",
    "\n",
    "ITensors.op(::OpName\"p1\",::SiteType\"site_basis\")=\n",
    "    [ 0   0   0   0\n",
    "      0   1   0   0\n",
    "      0   0   0   0\n",
    "      0   0   0   0 ]\n",
    "\n",
    "ITensors.op(::OpName\"p2\",::SiteType\"site_basis\")=\n",
    "    [ 0   0   0   0\n",
    "      0   0   0   0\n",
    "      0   0   1   0\n",
    "      0   0   0   0 ]\n",
    "\n",
    "ITensors.op(::OpName\"p3\",::SiteType\"site_basis\")=\n",
    "    [ 0   0   0   0\n",
    "      0   0   0   0\n",
    "      0   0   0   0\n",
    "      0   0   0   1 ]\n",
    "\n",
    "ITensors.op(::OpName\"num_is_flux\",::SiteType\"site_basis\")=\n",
    "    [ 0   0   0   0\n",
    "      0   1   0   0\n",
    "      0   0   1   0\n",
    "      0   0   0   1 ]\n",
    "  "
   ]
  },
  {
   "cell_type": "code",
   "execution_count": 108,
   "metadata": {},
   "outputs": [
    {
     "data": {
      "text/plain": [
       "16-element Vector{Index{Int64}}:\n",
       " (dim=4|id=427|\"Site,n=1,site_basis\")\n",
       " (dim=4|id=158|\"Site,n=2,site_basis\")\n",
       " (dim=4|id=665|\"Site,n=3,site_basis\")\n",
       " (dim=4|id=838|\"Site,n=4,site_basis\")\n",
       " (dim=4|id=270|\"Site,n=5,site_basis\")\n",
       " (dim=4|id=965|\"Site,n=6,site_basis\")\n",
       " (dim=4|id=319|\"Site,n=7,site_basis\")\n",
       " (dim=4|id=609|\"Site,n=8,site_basis\")\n",
       " (dim=4|id=927|\"Site,n=9,site_basis\")\n",
       " (dim=4|id=908|\"Site,n=10,site_basis\")\n",
       " (dim=4|id=436|\"Site,n=11,site_basis\")\n",
       " (dim=4|id=51|\"Site,n=12,site_basis\")\n",
       " (dim=4|id=536|\"Site,n=13,site_basis\")\n",
       " (dim=4|id=908|\"Site,n=14,site_basis\")\n",
       " (dim=4|id=227|\"Site,n=15,site_basis\")\n",
       " (dim=4|id=830|\"Site,n=16,site_basis\")"
      ]
     },
     "metadata": {},
     "output_type": "display_data"
    }
   ],
   "source": [
    "Nx = 4\n",
    "Ny = 4\n",
    "N = Nx*Ny\n",
    "sites = siteinds(\"site_basis\",N)"
   ]
  },
  {
   "cell_type": "code",
   "execution_count": 109,
   "metadata": {},
   "outputs": [
    {
     "data": {
      "text/plain": [
       "32"
      ]
     },
     "metadata": {},
     "output_type": "display_data"
    }
   ],
   "source": [
    "T1 = -128\n",
    "T2 = 32\n",
    "T3 = 32\n",
    "T4 = 32\n",
    "T5 = -32\n",
    "T6 = -32\n",
    "T7 = -32\n",
    "T8 = 32"
   ]
  },
  {
   "cell_type": "code",
   "execution_count": 110,
   "metadata": {},
   "outputs": [],
   "source": [
    "os = OpSum()\n",
    "for i=1:Ny-1\n",
    "    for j=1:Nx-1\n",
    "        os+=T1,\"0to3\",(i-1)*Nx+j,\"0to2\",i*Nx+j+1,\"0to1\",i*Nx+j\n",
    "        os+=T3,\"0to3\",(i-1)*Nx+j,\"0to2\",i*Nx+j+1,\"1to0\",i*Nx+j\n",
    "        os+=T2,\"0to3\",(i-1)*Nx+j,\"0to2\",i*Nx+j+1,\"2to3\",i*Nx+j\n",
    "        os+=T2,\"0to3\",(i-1)*Nx+j,\"0to2\",i*Nx+j+1,\"3to2\",i*Nx+j\n",
    "        os+=T2,\"0to3\",(i-1)*Nx+j,\"1to3\",i*Nx+j+1,\"0to1\",i*Nx+j\n",
    "        os+=T6,\"0to3\",(i-1)*Nx+j,\"1to3\",i*Nx+j+1,\"1to0\",i*Nx+j\n",
    "        os+=T7,\"0to3\",(i-1)*Nx+j,\"1to3\",i*Nx+j+1,\"2to3\",i*Nx+j\n",
    "        os+=T5,\"0to3\",(i-1)*Nx+j,\"1to3\",i*Nx+j+1,\"3to2\",i*Nx+j\n",
    "        os+=T3,\"0to3\",(i-1)*Nx+j,\"2to0\",i*Nx+j+1,\"0to1\",i*Nx+j\n",
    "        os+=T3,\"0to3\",(i-1)*Nx+j,\"2to0\",i*Nx+j+1,\"1to0\",i*Nx+j\n",
    "        os+=T6,\"0to3\",(i-1)*Nx+j,\"2to0\",i*Nx+j+1,\"2to3\",i*Nx+j\n",
    "        os+=T4,\"0to3\",(i-1)*Nx+j,\"2to0\",i*Nx+j+1,\"3to2\",i*Nx+j\n",
    "        os+=T2,\"0to3\",(i-1)*Nx+j,\"3to1\",i*Nx+j+1,\"0to1\",i*Nx+j\n",
    "        os+=T4,\"0to3\",(i-1)*Nx+j,\"3to1\",i*Nx+j+1,\"1to0\",i*Nx+j\n",
    "        os+=T5,\"0to3\",(i-1)*Nx+j,\"3to1\",i*Nx+j+1,\"2to3\",i*Nx+j\n",
    "        os+=T3,\"0to3\",(i-1)*Nx+j,\"3to1\",i*Nx+j+1,\"3to2\",i*Nx+j\n",
    "        os+=T2,\"1to2\",(i-1)*Nx+j,\"0to2\",i*Nx+j+1,\"0to1\",i*Nx+j\n",
    "        os+=T6,\"1to2\",(i-1)*Nx+j,\"0to2\",i*Nx+j+1,\"1to0\",i*Nx+j\n",
    "        os+=T5,\"1to2\",(i-1)*Nx+j,\"0to2\",i*Nx+j+1,\"2to3\",i*Nx+j\n",
    "        os+=T7,\"1to2\",(i-1)*Nx+j,\"0to2\",i*Nx+j+1,\"3to2\",i*Nx+j\n",
    "        os+=T3,\"1to2\",(i-1)*Nx+j,\"1to3\",i*Nx+j+1,\"0to1\",i*Nx+j\n",
    "        os+=T7,\"1to2\",(i-1)*Nx+j,\"1to3\",i*Nx+j+1,\"1to0\",i*Nx+j\n",
    "        os+=T6,\"1to2\",(i-1)*Nx+j,\"1to3\",i*Nx+j+1,\"2to3\",i*Nx+j\n",
    "        os+=T6,\"1to2\",(i-1)*Nx+j,\"1to3\",i*Nx+j+1,\"3to2\",i*Nx+j\n",
    "        os+=T4,\"1to2\",(i-1)*Nx+j,\"2to0\",i*Nx+j+1,\"0to1\",i*Nx+j\n",
    "        os+=T2,\"1to2\",(i-1)*Nx+j,\"2to0\",i*Nx+j+1,\"1to0\",i*Nx+j\n",
    "        os+=T5,\"1to2\",(i-1)*Nx+j,\"2to0\",i*Nx+j+1,\"2to3\",i*Nx+j\n",
    "        os+=T3,\"1to2\",(i-1)*Nx+j,\"2to0\",i*Nx+j+1,\"3to2\",i*Nx+j\n",
    "        os+=T5,\"1to2\",(i-1)*Nx+j,\"3to1\",i*Nx+j+1,\"0to1\",i*Nx+j\n",
    "        os+=T5,\"1to2\",(i-1)*Nx+j,\"3to1\",i*Nx+j+1,\"1to0\",i*Nx+j\n",
    "        os+=T8,\"1to2\",(i-1)*Nx+j,\"3to1\",i*Nx+j+1,\"2to3\",i*Nx+j\n",
    "        os+=T6,\"1to2\",(i-1)*Nx+j,\"3to1\",i*Nx+j+1,\"3to2\",i*Nx+j\n",
    "        os+=T2,\"2to1\",(i-1)*Nx+j,\"0to2\",i*Nx+j+1,\"0to1\",i*Nx+j\n",
    "        os+=T4,\"2to1\",(i-1)*Nx+j,\"0to2\",i*Nx+j+1,\"1to0\",i*Nx+j\n",
    "        os+=T3,\"2to1\",(i-1)*Nx+j,\"0to2\",i*Nx+j+1,\"2to3\",i*Nx+j\n",
    "        os+=T5,\"2to1\",(i-1)*Nx+j,\"0to2\",i*Nx+j+1,\"3to2\",i*Nx+j\n",
    "        os+=T5,\"2to1\",(i-1)*Nx+j,\"1to3\",i*Nx+j+1,\"0to1\",i*Nx+j\n",
    "        os+=T5,\"2to1\",(i-1)*Nx+j,\"1to3\",i*Nx+j+1,\"1to0\",i*Nx+j\n",
    "        os+=T6,\"2to1\",(i-1)*Nx+j,\"1to3\",i*Nx+j+1,\"2to3\",i*Nx+j\n",
    "        os+=T8,\"2to1\",(i-1)*Nx+j,\"1to3\",i*Nx+j+1,\"3to2\",i*Nx+j\n",
    "        os+=T6,\"2to1\",(i-1)*Nx+j,\"2to0\",i*Nx+j+1,\"0to1\",i*Nx+j\n",
    "        os+=T2,\"2to1\",(i-1)*Nx+j,\"2to0\",i*Nx+j+1,\"1to0\",i*Nx+j\n",
    "        os+=T7,\"2to1\",(i-1)*Nx+j,\"2to0\",i*Nx+j+1,\"2to3\",i*Nx+j\n",
    "        os+=T5,\"2to1\",(i-1)*Nx+j,\"2to0\",i*Nx+j+1,\"3to2\",i*Nx+j\n",
    "        os+=T7,\"2to1\",(i-1)*Nx+j,\"3to1\",i*Nx+j+1,\"0to1\",i*Nx+j\n",
    "        os+=T3,\"2to1\",(i-1)*Nx+j,\"3to1\",i*Nx+j+1,\"1to0\",i*Nx+j\n",
    "        os+=T6,\"2to1\",(i-1)*Nx+j,\"3to1\",i*Nx+j+1,\"2to3\",i*Nx+j\n",
    "        os+=T6,\"2to1\",(i-1)*Nx+j,\"3to1\",i*Nx+j+1,\"3to2\",i*Nx+j\n",
    "        os+=T3,\"3to0\",(i-1)*Nx+j,\"0to2\",i*Nx+j+1,\"0to1\",i*Nx+j\n",
    "        os+=T3,\"3to0\",(i-1)*Nx+j,\"0to2\",i*Nx+j+1,\"1to0\",i*Nx+j\n",
    "        os+=T4,\"3to0\",(i-1)*Nx+j,\"0to2\",i*Nx+j+1,\"2to3\",i*Nx+j\n",
    "        os+=T6,\"3to0\",(i-1)*Nx+j,\"0to2\",i*Nx+j+1,\"3to2\",i*Nx+j\n",
    "        os+=T4,\"3to0\",(i-1)*Nx+j,\"1to3\",i*Nx+j+1,\"0to1\",i*Nx+j\n",
    "        os+=T2,\"3to0\",(i-1)*Nx+j,\"1to3\",i*Nx+j+1,\"1to0\",i*Nx+j\n",
    "        os+=T3,\"3to0\",(i-1)*Nx+j,\"1to3\",i*Nx+j+1,\"2to3\",i*Nx+j\n",
    "        os+=T5,\"3to0\",(i-1)*Nx+j,\"1to3\",i*Nx+j+1,\"3to2\",i*Nx+j\n",
    "        os+=T3,\"3to0\",(i-1)*Nx+j,\"2to0\",i*Nx+j+1,\"0to1\",i*Nx+j\n",
    "        os+=T1,\"3to0\",(i-1)*Nx+j,\"2to0\",i*Nx+j+1,\"1to0\",i*Nx+j\n",
    "        os+=T2,\"3to0\",(i-1)*Nx+j,\"2to0\",i*Nx+j+1,\"2to3\",i*Nx+j\n",
    "        os+=T2,\"3to0\",(i-1)*Nx+j,\"2to0\",i*Nx+j+1,\"3to2\",i*Nx+j\n",
    "        os+=T6,\"3to0\",(i-1)*Nx+j,\"3to1\",i*Nx+j+1,\"0to1\",i*Nx+j\n",
    "        os+=T2,\"3to0\",(i-1)*Nx+j,\"3to1\",i*Nx+j+1,\"1to0\",i*Nx+j\n",
    "        os+=T5,\"3to0\",(i-1)*Nx+j,\"3to1\",i*Nx+j+1,\"2to3\",i*Nx+j\n",
    "        os+=T7,\"3to0\",(i-1)*Nx+j,\"3to1\",i*Nx+j+1,\"3to2\",i*Nx+j\n",
    "    end\n",
    "end\n",
    "H_mag = MPO(os,sites);"
   ]
  },
  {
   "cell_type": "code",
   "execution_count": 111,
   "metadata": {},
   "outputs": [],
   "source": [
    "os_el = OpSum()\n",
    "for i=1:N\n",
    "    os_el+=6/4*2,\"num_is_flux\",i #the square of L and R have 1/4 eig.val if the link carries flux, else 0\n",
    "end\n",
    "H_el = MPO(os_el,sites);"
   ]
  },
  {
   "cell_type": "code",
   "execution_count": 112,
   "metadata": {},
   "outputs": [],
   "source": [
    "os_gauss = OpSum()\n",
    "for i=1:Ny-1\n",
    "    for j=1:Nx-1\n",
    "        os_gauss+=0,\"p0\",(i-1)*Nx+j,\"p0\",(i-1)*Nx+j+1,\"p0\",i*Nx+j+1\n",
    "        os_gauss+=1,\"p0\",(i-1)*Nx+j,\"p0\",(i-1)*Nx+j+1,\"p1\",i*Nx+j+1\n",
    "        os_gauss+=1,\"p0\",(i-1)*Nx+j,\"p0\",(i-1)*Nx+j+1,\"p2\",i*Nx+j+1\n",
    "        os_gauss+=0,\"p0\",(i-1)*Nx+j,\"p0\",(i-1)*Nx+j+1,\"p3\",i*Nx+j+1\n",
    "        os_gauss+=0,\"p0\",(i-1)*Nx+j,\"p1\",(i-1)*Nx+j+1,\"p0\",i*Nx+j+1\n",
    "        os_gauss+=1,\"p0\",(i-1)*Nx+j,\"p1\",(i-1)*Nx+j+1,\"p1\",i*Nx+j+1\n",
    "        os_gauss+=1,\"p0\",(i-1)*Nx+j,\"p1\",(i-1)*Nx+j+1,\"p2\",i*Nx+j+1\n",
    "        os_gauss+=0,\"p0\",(i-1)*Nx+j,\"p1\",(i-1)*Nx+j+1,\"p3\",i*Nx+j+1\n",
    "        os_gauss+=1,\"p0\",(i-1)*Nx+j,\"p2\",(i-1)*Nx+j+1,\"p0\",i*Nx+j+1\n",
    "        os_gauss+=0,\"p0\",(i-1)*Nx+j,\"p2\",(i-1)*Nx+j+1,\"p1\",i*Nx+j+1\n",
    "        os_gauss+=0,\"p0\",(i-1)*Nx+j,\"p2\",(i-1)*Nx+j+1,\"p2\",i*Nx+j+1\n",
    "        os_gauss+=1,\"p0\",(i-1)*Nx+j,\"p2\",(i-1)*Nx+j+1,\"p3\",i*Nx+j+1\n",
    "        os_gauss+=1,\"p0\",(i-1)*Nx+j,\"p3\",(i-1)*Nx+j+1,\"p0\",i*Nx+j+1\n",
    "        os_gauss+=0,\"p0\",(i-1)*Nx+j,\"p3\",(i-1)*Nx+j+1,\"p1\",i*Nx+j+1\n",
    "        os_gauss+=0,\"p0\",(i-1)*Nx+j,\"p3\",(i-1)*Nx+j+1,\"p2\",i*Nx+j+1\n",
    "        os_gauss+=1,\"p0\",(i-1)*Nx+j,\"p3\",(i-1)*Nx+j+1,\"p3\",i*Nx+j+1\n",
    "        os_gauss+=1,\"p1\",(i-1)*Nx+j,\"p0\",(i-1)*Nx+j+1,\"p0\",i*Nx+j+1\n",
    "        os_gauss+=0,\"p1\",(i-1)*Nx+j,\"p0\",(i-1)*Nx+j+1,\"p1\",i*Nx+j+1\n",
    "        os_gauss+=0,\"p1\",(i-1)*Nx+j,\"p0\",(i-1)*Nx+j+1,\"p2\",i*Nx+j+1\n",
    "        os_gauss+=1,\"p1\",(i-1)*Nx+j,\"p0\",(i-1)*Nx+j+1,\"p3\",i*Nx+j+1\n",
    "        os_gauss+=1,\"p1\",(i-1)*Nx+j,\"p1\",(i-1)*Nx+j+1,\"p0\",i*Nx+j+1\n",
    "        os_gauss+=0,\"p1\",(i-1)*Nx+j,\"p1\",(i-1)*Nx+j+1,\"p1\",i*Nx+j+1\n",
    "        os_gauss+=0,\"p1\",(i-1)*Nx+j,\"p1\",(i-1)*Nx+j+1,\"p2\",i*Nx+j+1\n",
    "        os_gauss+=1,\"p1\",(i-1)*Nx+j,\"p1\",(i-1)*Nx+j+1,\"p3\",i*Nx+j+1\n",
    "        os_gauss+=0,\"p1\",(i-1)*Nx+j,\"p2\",(i-1)*Nx+j+1,\"p0\",i*Nx+j+1\n",
    "        os_gauss+=1,\"p1\",(i-1)*Nx+j,\"p2\",(i-1)*Nx+j+1,\"p1\",i*Nx+j+1\n",
    "        os_gauss+=1,\"p1\",(i-1)*Nx+j,\"p2\",(i-1)*Nx+j+1,\"p2\",i*Nx+j+1\n",
    "        os_gauss+=0,\"p1\",(i-1)*Nx+j,\"p2\",(i-1)*Nx+j+1,\"p3\",i*Nx+j+1\n",
    "        os_gauss+=0,\"p1\",(i-1)*Nx+j,\"p3\",(i-1)*Nx+j+1,\"p0\",i*Nx+j+1\n",
    "        os_gauss+=1,\"p1\",(i-1)*Nx+j,\"p3\",(i-1)*Nx+j+1,\"p1\",i*Nx+j+1\n",
    "        os_gauss+=1,\"p1\",(i-1)*Nx+j,\"p3\",(i-1)*Nx+j+1,\"p2\",i*Nx+j+1\n",
    "        os_gauss+=0,\"p1\",(i-1)*Nx+j,\"p3\",(i-1)*Nx+j+1,\"p3\",i*Nx+j+1\n",
    "        os_gauss+=0,\"p2\",(i-1)*Nx+j,\"p0\",(i-1)*Nx+j+1,\"p0\",i*Nx+j+1\n",
    "        os_gauss+=1,\"p2\",(i-1)*Nx+j,\"p0\",(i-1)*Nx+j+1,\"p1\",i*Nx+j+1\n",
    "        os_gauss+=1,\"p2\",(i-1)*Nx+j,\"p0\",(i-1)*Nx+j+1,\"p2\",i*Nx+j+1\n",
    "        os_gauss+=0,\"p2\",(i-1)*Nx+j,\"p0\",(i-1)*Nx+j+1,\"p3\",i*Nx+j+1\n",
    "        os_gauss+=0,\"p2\",(i-1)*Nx+j,\"p1\",(i-1)*Nx+j+1,\"p0\",i*Nx+j+1\n",
    "        os_gauss+=1,\"p2\",(i-1)*Nx+j,\"p1\",(i-1)*Nx+j+1,\"p1\",i*Nx+j+1\n",
    "        os_gauss+=1,\"p2\",(i-1)*Nx+j,\"p1\",(i-1)*Nx+j+1,\"p2\",i*Nx+j+1\n",
    "        os_gauss+=0,\"p2\",(i-1)*Nx+j,\"p1\",(i-1)*Nx+j+1,\"p3\",i*Nx+j+1\n",
    "        os_gauss+=1,\"p2\",(i-1)*Nx+j,\"p2\",(i-1)*Nx+j+1,\"p0\",i*Nx+j+1\n",
    "        os_gauss+=0,\"p2\",(i-1)*Nx+j,\"p2\",(i-1)*Nx+j+1,\"p1\",i*Nx+j+1\n",
    "        os_gauss+=0,\"p2\",(i-1)*Nx+j,\"p2\",(i-1)*Nx+j+1,\"p2\",i*Nx+j+1\n",
    "        os_gauss+=1,\"p2\",(i-1)*Nx+j,\"p2\",(i-1)*Nx+j+1,\"p3\",i*Nx+j+1\n",
    "        os_gauss+=1,\"p2\",(i-1)*Nx+j,\"p3\",(i-1)*Nx+j+1,\"p0\",i*Nx+j+1\n",
    "        os_gauss+=0,\"p2\",(i-1)*Nx+j,\"p3\",(i-1)*Nx+j+1,\"p1\",i*Nx+j+1\n",
    "        os_gauss+=0,\"p2\",(i-1)*Nx+j,\"p3\",(i-1)*Nx+j+1,\"p2\",i*Nx+j+1\n",
    "        os_gauss+=1,\"p2\",(i-1)*Nx+j,\"p3\",(i-1)*Nx+j+1,\"p3\",i*Nx+j+1\n",
    "        os_gauss+=1,\"p3\",(i-1)*Nx+j,\"p0\",(i-1)*Nx+j+1,\"p0\",i*Nx+j+1\n",
    "        os_gauss+=0,\"p3\",(i-1)*Nx+j,\"p0\",(i-1)*Nx+j+1,\"p1\",i*Nx+j+1\n",
    "        os_gauss+=0,\"p3\",(i-1)*Nx+j,\"p0\",(i-1)*Nx+j+1,\"p2\",i*Nx+j+1\n",
    "        os_gauss+=1,\"p3\",(i-1)*Nx+j,\"p0\",(i-1)*Nx+j+1,\"p3\",i*Nx+j+1\n",
    "        os_gauss+=1,\"p3\",(i-1)*Nx+j,\"p1\",(i-1)*Nx+j+1,\"p0\",i*Nx+j+1\n",
    "        os_gauss+=0,\"p3\",(i-1)*Nx+j,\"p1\",(i-1)*Nx+j+1,\"p1\",i*Nx+j+1\n",
    "        os_gauss+=0,\"p3\",(i-1)*Nx+j,\"p1\",(i-1)*Nx+j+1,\"p2\",i*Nx+j+1\n",
    "        os_gauss+=1,\"p3\",(i-1)*Nx+j,\"p1\",(i-1)*Nx+j+1,\"p3\",i*Nx+j+1\n",
    "        os_gauss+=0,\"p3\",(i-1)*Nx+j,\"p2\",(i-1)*Nx+j+1,\"p0\",i*Nx+j+1\n",
    "        os_gauss+=1,\"p3\",(i-1)*Nx+j,\"p2\",(i-1)*Nx+j+1,\"p1\",i*Nx+j+1\n",
    "        os_gauss+=1,\"p3\",(i-1)*Nx+j,\"p2\",(i-1)*Nx+j+1,\"p2\",i*Nx+j+1\n",
    "        os_gauss+=0,\"p3\",(i-1)*Nx+j,\"p2\",(i-1)*Nx+j+1,\"p3\",i*Nx+j+1\n",
    "        os_gauss+=0,\"p3\",(i-1)*Nx+j,\"p3\",(i-1)*Nx+j+1,\"p0\",i*Nx+j+1\n",
    "        os_gauss+=1,\"p3\",(i-1)*Nx+j,\"p3\",(i-1)*Nx+j+1,\"p1\",i*Nx+j+1\n",
    "        os_gauss+=1,\"p3\",(i-1)*Nx+j,\"p3\",(i-1)*Nx+j+1,\"p2\",i*Nx+j+1\n",
    "        os_gauss+=0,\"p3\",(i-1)*Nx+j,\"p3\",(i-1)*Nx+j+1,\"p3\",i*Nx+j+1\n",
    "    end\n",
    "end\n",
    "H_gauss = MPO(os_gauss,sites);"
   ]
  },
  {
   "cell_type": "code",
   "execution_count": 113,
   "metadata": {},
   "outputs": [],
   "source": [
    "linkDim = max(20, ceil(Int,Nx*Ny*1.25))\n",
    "#init = random_mps(sites;linkdims=linkDim);\n",
    "init = MPS(sites,[\"0\" for n in 1:N]);"
   ]
  },
  {
   "cell_type": "code",
   "execution_count": 114,
   "metadata": {},
   "outputs": [],
   "source": [
    "g2 = 8\n",
    "K = 10;"
   ]
  },
  {
   "cell_type": "code",
   "execution_count": 115,
   "metadata": {},
   "outputs": [
    {
     "data": {
      "text/plain": [
       "-6.565638173930168e-12"
      ]
     },
     "metadata": {},
     "output_type": "display_data"
    }
   ],
   "source": [
    "inner(init',1/g2*H_mag+g2*H_el,init)"
   ]
  },
  {
   "cell_type": "code",
   "execution_count": 116,
   "metadata": {},
   "outputs": [
    {
     "name": "stdout",
     "output_type": "stream",
     "text": [
      "After sweep 1 energy=-27.256704566553566  maxlinkdim=20 maxerr=4.99E-07 time=0.147\n",
      "After sweep 2 energy=-27.239350873481698  maxlinkdim=20 maxerr=3.30E-04 time=0.293\n",
      "After sweep 3 energy=-27.239350872900474  maxlinkdim=20 maxerr=3.32E-04 time=0.266\n",
      "After sweep 4 energy=-27.26590621327483  maxlinkdim=40 maxerr=2.57E-05 time=0.405\n",
      "After sweep 5 energy=-27.26592875892021  maxlinkdim=40 maxerr=3.42E-06 time=0.425\n",
      "After sweep 6 energy=-27.265928758919927  maxlinkdim=40 maxerr=3.42E-06 time=0.422\n",
      "After sweep 7 energy=-27.265941281467036  maxlinkdim=107 maxerr=9.92E-13 time=1.646\n",
      "After sweep 8 energy=-27.265941281467036  maxlinkdim=107 maxerr=9.92E-13 time=1.521\n",
      "After sweep 9 energy=-27.26594128153647  maxlinkdim=84 maxerr=9.76E-13 time=1.354\n",
      "After sweep 10 energy=-27.265941281536413  maxlinkdim=84 maxerr=9.76E-13 time=1.118\n",
      "After sweep 11 energy=-27.26594128153647  maxlinkdim=84 maxerr=9.76E-13 time=1.367\n",
      "After sweep 12 energy=-27.265941281536442  maxlinkdim=84 maxerr=9.76E-13 time=1.251\n",
      "After sweep 13 energy=-27.26594128078861  maxlinkdim=47 maxerr=9.78E-13 time=0.358\n",
      "After sweep 14 energy=-27.265941280788624  maxlinkdim=47 maxerr=7.66E-13 time=0.342\n",
      "After sweep 15 energy=-27.265941280788596  maxlinkdim=47 maxerr=7.66E-13 time=0.274\n",
      "After sweep 16 energy=-27.265941280788624  maxlinkdim=47 maxerr=7.66E-13 time=0.314\n",
      "Energy difference less than 1.0e-10, stopping DMRG\n"
     ]
    },
    {
     "data": {
      "text/plain": [
       "(-27.265941280788624, MPS\n",
       "[1] ((dim=4|id=427|\"Site,n=1,site_basis\"), (dim=4|id=861|\"Link,l=1\"))\n",
       "[2] ((dim=5|id=370|\"Link,l=2\"), (dim=4|id=158|\"Site,n=2,site_basis\"), (dim=4|id=861|\"Link,l=1\"))\n",
       "[3] ((dim=4|id=665|\"Site,n=3,site_basis\"), (dim=8|id=876|\"Link,l=3\"), (dim=5|id=370|\"Link,l=2\"))\n",
       "[4] ((dim=4|id=838|\"Site,n=4,site_basis\"), (dim=8|id=497|\"Link,l=4\"), (dim=8|id=876|\"Link,l=3\"))\n",
       "[5] ((dim=4|id=270|\"Site,n=5,site_basis\"), (dim=16|id=788|\"Link,l=5\"), (dim=8|id=497|\"Link,l=4\"))\n",
       "[6] ((dim=4|id=965|\"Site,n=6,site_basis\"), (dim=31|id=887|\"Link,l=6\"), (dim=16|id=788|\"Link,l=5\"))\n",
       "[7] ((dim=4|id=319|\"Site,n=7,site_basis\"), (dim=47|id=102|\"Link,l=7\"), (dim=31|id=887|\"Link,l=6\"))\n",
       "[8] ((dim=4|id=609|\"Site,n=8,site_basis\"), (dim=31|id=297|\"Link,l=8\"), (dim=47|id=102|\"Link,l=7\"))\n",
       "[9] ((dim=4|id=927|\"Site,n=9,site_basis\"), (dim=47|id=965|\"Link,l=9\"), (dim=31|id=297|\"Link,l=8\"))\n",
       "[10] ((dim=4|id=908|\"Site,n=10,site_basis\"), (dim=31|id=481|\"Link,l=10\"), (dim=47|id=965|\"Link,l=9\"))\n",
       "[11] ((dim=4|id=436|\"Site,n=11,site_basis\"), (dim=16|id=604|\"Link,l=11\"), (dim=31|id=481|\"Link,l=10\"))\n",
       "[12] ((dim=4|id=51|\"Site,n=12,site_basis\"), (dim=8|id=680|\"Link,l=12\"), (dim=16|id=604|\"Link,l=11\"))\n",
       "[13] ((dim=4|id=536|\"Site,n=13,site_basis\"), (dim=8|id=489|\"Link,l=13\"), (dim=8|id=680|\"Link,l=12\"))\n",
       "[14] ((dim=4|id=908|\"Site,n=14,site_basis\"), (dim=5|id=721|\"Link,l=14\"), (dim=8|id=489|\"Link,l=13\"))\n",
       "[15] ((dim=4|id=227|\"Site,n=15,site_basis\"), (dim=4|id=596|\"Link,l=15\"), (dim=5|id=721|\"Link,l=14\"))\n",
       "[16] ((dim=4|id=830|\"Site,n=16,site_basis\"), (dim=4|id=596|\"Link,l=15\"))\n",
       ")"
      ]
     },
     "metadata": {},
     "output_type": "display_data"
    }
   ],
   "source": [
    "obs = DMRGObserver(energy_tol=1E-10, minsweeps=15)\n",
    "energy,psi = dmrg([g2*H_el, 1/g2*H_mag, 0*K*H_gauss], init ;nsweeps=10000,cutoff=1E-12, mindim=5, eigsolve_tol=1e-14,maxdim=Int.(reduce(vcat,[\n",
    "    fill(8*linkDim/8,3),\n",
    "    fill(8*linkDim/4,3),\n",
    "    fill(8*linkDim,3),\n",
    "    fill(8*linkDim*2,3),\n",
    "    fill(8*linkDim*3,3),\n",
    "    fill(8*linkDim*5,3),\n",
    "    fill(8*linkDim*10,5),\n",
    "    fill(8*linkDim*20,5),\n",
    "    fill(8*linkDim*50,5),\n",
    "    fill(8*linkDim*100,10),\n",
    "    fill(8*linkDim*200,10),\n",
    "    fill(8*linkDim*500,10),\n",
    "],)), noise=reduce(vcat, [fill(5E-5,4),fill(5E-6,4),fill(1E-7,4), [0.0]]),observer=obs)"
   ]
  },
  {
   "cell_type": "code",
   "execution_count": 117,
   "metadata": {},
   "outputs": [
    {
     "data": {
      "text/plain": [
       "1.3605990513646829e-15"
      ]
     },
     "metadata": {},
     "output_type": "display_data"
    }
   ],
   "source": [
    "gauss = inner(psi',H_gauss,psi)"
   ]
  },
  {
   "cell_type": "code",
   "execution_count": 118,
   "metadata": {},
   "outputs": [
    {
     "data": {
      "text/plain": [
       "743.4315541811668"
      ]
     },
     "metadata": {},
     "output_type": "display_data"
    }
   ],
   "source": [
    "H2 = inner(1/g2*H_mag+g2*H_el,psi,1/g2*H_mag+g2*H_el,psi)"
   ]
  },
  {
   "cell_type": "code",
   "execution_count": 119,
   "metadata": {},
   "outputs": [
    {
     "data": {
      "text/plain": [
       "-27.265941280794408"
      ]
     },
     "metadata": {},
     "output_type": "display_data"
    }
   ],
   "source": [
    "E = inner(psi',1/g2*H_mag+g2*H_el,psi)"
   ]
  },
  {
   "cell_type": "code",
   "execution_count": 120,
   "metadata": {},
   "outputs": [
    {
     "data": {
      "text/plain": [
       "0.0005034264613429811"
      ]
     },
     "metadata": {},
     "output_type": "display_data"
    }
   ],
   "source": [
    "sqrt(H2-E^2)"
   ]
  }
 ],
 "metadata": {
  "kernelspec": {
   "display_name": "Julia 1.11.5",
   "language": "julia",
   "name": "julia-1.11"
  },
  "language_info": {
   "file_extension": ".jl",
   "mimetype": "application/julia",
   "name": "julia",
   "version": "1.11.5"
  }
 },
 "nbformat": 4,
 "nbformat_minor": 2
}
