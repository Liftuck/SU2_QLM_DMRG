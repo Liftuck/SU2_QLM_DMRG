{
 "cells": [
  {
   "cell_type": "code",
   "execution_count": 1,
   "metadata": {},
   "outputs": [],
   "source": [
    "import numpy as np\n",
    "import matplotlib.pyplot as plt\n",
    "from scipy.linalg import block_diag\n",
    "import itertools\n",
    "from timeit import default_timer as timer\n",
    "import scipy as sc\n",
    "import pickle\n",
    "import scipy.sparse as scs\n",
    "from functools import lru_cache, cache\n",
    "from joblib import Parallel, delayed\n"
   ]
  },
  {
   "cell_type": "code",
   "execution_count": 2,
   "metadata": {},
   "outputs": [],
   "source": [
    "def boolean_combinations(n):\n",
    "    return [\n",
    "        *itertools.product(\n",
    "            *[[0, 1, 2, 3] for _ in range(n)]\n",
    "    )]"
   ]
  },
  {
   "cell_type": "code",
   "execution_count": 3,
   "metadata": {},
   "outputs": [],
   "source": [
    "#inverted number of rishons of each link configuration\n",
    "#0=Left, 1=Right, 2=Down\n",
    "\n",
    "s0 = np.array([0,0,0])\n",
    "s1 = np.array([1,1,0])\n",
    "s2 = np.array([1,0,1])\n",
    "s3 = np.array([0,1,1])\n",
    "\n",
    "r = np.array([s0,s1,s2,s3]) #rishon register"
   ]
  },
  {
   "cell_type": "code",
   "execution_count": 4,
   "metadata": {},
   "outputs": [],
   "source": [
    "def ten2four(n):\n",
    "    n = n % (4294967296)\n",
    "    s = np.base_repr(n,4)\n",
    "    return np.array(list(s.zfill(16)),dtype=int)"
   ]
  },
  {
   "cell_type": "code",
   "execution_count": 5,
   "metadata": {},
   "outputs": [],
   "source": [
    "factor_basis = np.array(boolean_combinations(8))\n",
    "\n",
    "b_factor = np.array(boolean_combinations(11))\n",
    "\n",
    "s_factor = np.array(boolean_combinations(5))"
   ]
  },
  {
   "cell_type": "code",
   "execution_count": 6,
   "metadata": {},
   "outputs": [],
   "source": [
    "def is_gauß2(state):\n",
    "    c = np.zeros((9,4**11),dtype=bool)\n",
    "    c[0] = (r[state[:,0],1]+r[state[:,1],2]+r[state[:,5],0])%2 == 0\n",
    "    c[1] = (r[state[:,1],1]+r[state[:,2],2]+r[state[:,6],0])%2 == 0\n",
    "    c[2] = (r[state[:,2],1]+r[state[:,3],2]+r[state[:,7],0])%2 == 0\n",
    "                    \n",
    "    c[3] = (r[state[:,4],1]+r[state[:,5],2]+r[state[:,9],0])%2 == 0\n",
    "    c[4] = (r[state[:,5],1]+r[state[:,6],2]+r[state[:,10],0])%2 == 0\n",
    "    c[5] = (r[state[:,6],1]+r[state[:,7],2]+r[state[:,11],0])%2 == 0\n",
    "\n",
    "    c[6] = (r[state[:,8],1]+r[state[:,9],2]+r[state[:,13],0])%2 == 0\n",
    "    c[7] = (r[state[:,9],1]+r[state[:,10],2]+r[state[:,14],0])%2 == 0\n",
    "    c[8] = (r[state[:,10],1]+r[state[:,11],2]+r[state[:,15],0])%2 == 0\n",
    "\n",
    "    return np.all(c,axis=0)"
   ]
  },
  {
   "cell_type": "code",
   "execution_count": 7,
   "metadata": {},
   "outputs": [],
   "source": [
    "key = np.array([4**7,4**6,4**5,4**4,4**3,4**2,4**1,4**0])"
   ]
  },
  {
   "cell_type": "code",
   "execution_count": 8,
   "metadata": {},
   "outputs": [],
   "source": [
    "def basis_gen(i):\n",
    "    state = s_factor[i]\n",
    "    temp = is_gauß2(np.hstack((np.repeat(state[:, np.newaxis], 4**11, axis=1).T,b_factor)))\n",
    "    sum = np.sum(temp)\n",
    "    if sum>0:\n",
    "        return np.ones(sum)*4194304*i+np.argwhere(temp)[:,0]\n"
   ]
  },
  {
   "cell_type": "code",
   "execution_count": 9,
   "metadata": {},
   "outputs": [],
   "source": [
    "results = Parallel(n_jobs=14)(delayed(basis_gen)(i) for i in range(4**5))\n",
    "results_clean = [i for i in results if i is not None]\n",
    "h_array = np.array(results_clean, dtype=int)\n",
    "h_array = h_array.flatten()\n",
    "states = [ten2four(i) for i in h_array]"
   ]
  },
  {
   "cell_type": "code",
   "execution_count": null,
   "metadata": {},
   "outputs": [],
   "source": [
    "np.savez_compressed(\"gauge_indices_4x4_sort1\",h_array)"
   ]
  }
 ],
 "metadata": {
  "kernelspec": {
   "display_name": "Python 3",
   "language": "python",
   "name": "python3"
  },
  "language_info": {
   "codemirror_mode": {
    "name": "ipython",
    "version": 3
   },
   "file_extension": ".py",
   "mimetype": "text/x-python",
   "name": "python",
   "nbconvert_exporter": "python",
   "pygments_lexer": "ipython3",
   "version": "3.12.3"
  }
 },
 "nbformat": 4,
 "nbformat_minor": 2
}
