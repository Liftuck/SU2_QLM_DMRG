{
 "cells": [
  {
   "cell_type": "code",
   "execution_count": 7,
   "id": "b5fab4ca",
   "metadata": {},
   "outputs": [],
   "source": [
    "import numpy as np\n",
    "from scipy.linalg import block_diag\n",
    "import itertools\n",
    "import scipy as sc\n",
    "import scipy.sparse as scs\n",
    "from joblib import Parallel, delayed\n",
    "import sys\n",
    "import copy"
   ]
  },
  {
   "cell_type": "code",
   "execution_count": 8,
   "id": "6d57de37",
   "metadata": {},
   "outputs": [],
   "source": [
    "h_el = scs.load_npz(\"h_el.npz\")\n",
    "h_mag = scs.load_npz(\"h_mag.npz\")"
   ]
  },
  {
   "cell_type": "code",
   "execution_count": 9,
   "id": "669b05f3",
   "metadata": {},
   "outputs": [],
   "source": [
    "g2 = 1"
   ]
  },
  {
   "cell_type": "code",
   "execution_count": 10,
   "id": "a8617b76",
   "metadata": {},
   "outputs": [],
   "source": [
    "h_full = 1/g2*h_mag+g2*h_el\n",
    "\n",
    "h_full_csr = h_full.tocsr()"
   ]
  },
  {
   "cell_type": "code",
   "execution_count": 11,
   "id": "4a167b9b",
   "metadata": {},
   "outputs": [
    {
     "data": {
      "text/plain": [
       "array([-608.5275838, -611.5275838])"
      ]
     },
     "execution_count": 11,
     "metadata": {},
     "output_type": "execute_result"
    }
   ],
   "source": [
    "scs.linalg.eigsh(h_full_csr, k=2, which=\"SA\", return_eigenvectors=False)"
   ]
  }
 ],
 "metadata": {
  "kernelspec": {
   "display_name": "Python 3",
   "language": "python",
   "name": "python3"
  },
  "language_info": {
   "codemirror_mode": {
    "name": "ipython",
    "version": 3
   },
   "file_extension": ".py",
   "mimetype": "text/x-python",
   "name": "python",
   "nbconvert_exporter": "python",
   "pygments_lexer": "ipython3",
   "version": "3.12.3"
  }
 },
 "nbformat": 4,
 "nbformat_minor": 5
}
