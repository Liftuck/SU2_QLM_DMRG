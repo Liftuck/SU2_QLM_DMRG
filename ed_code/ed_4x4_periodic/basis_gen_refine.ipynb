{
 "cells": [
  {
   "cell_type": "code",
   "execution_count": 1,
   "id": "fb68e6e3",
   "metadata": {},
   "outputs": [],
   "source": [
    "import numpy as np\n",
    "import matplotlib.pyplot as plt\n",
    "from scipy.linalg import block_diag\n",
    "import itertools\n",
    "from timeit import default_timer as timer\n",
    "import scipy as sc\n",
    "import pickle\n",
    "import scipy.sparse as scs\n",
    "from functools import lru_cache, cache\n",
    "from joblib import Parallel, delayed\n"
   ]
  },
  {
   "cell_type": "code",
   "execution_count": 2,
   "id": "ccf3dff3",
   "metadata": {},
   "outputs": [],
   "source": [
    "def boolean_combinations(n):\n",
    "    return [\n",
    "        *itertools.product(\n",
    "            *[[0, 1, 2, 3] for _ in range(n)]\n",
    "    )]"
   ]
  },
  {
   "cell_type": "code",
   "execution_count": 3,
   "id": "ed13bbcc",
   "metadata": {},
   "outputs": [],
   "source": [
    "#inverted number of rishons of each link configuration\n",
    "#0=Left, 1=Right, 2=Down\n",
    "\n",
    "s0 = np.array([0,0,0])\n",
    "s1 = np.array([1,1,0])\n",
    "s2 = np.array([1,0,1])\n",
    "s3 = np.array([0,1,1])\n",
    "\n",
    "r = np.array([s0,s1,s2,s3]) #rishon register"
   ]
  },
  {
   "cell_type": "code",
   "execution_count": 4,
   "id": "722b74f6",
   "metadata": {},
   "outputs": [],
   "source": [
    "def ten2four(n):\n",
    "    n = n % (4294967296)\n",
    "    s = np.base_repr(n,4)\n",
    "    return np.array(list(s.zfill(16)),dtype=int)"
   ]
  },
  {
   "cell_type": "code",
   "execution_count": 5,
   "id": "96da73c3",
   "metadata": {},
   "outputs": [],
   "source": [
    "gauge_indices = np.loadtxt(\"gauge_indices_4x4_sort1.txt\").astype(int)\n",
    "gauge_indices_base4 = np.array([ten2four(i) for i in gauge_indices])"
   ]
  },
  {
   "cell_type": "code",
   "execution_count": 7,
   "id": "c7e775ec",
   "metadata": {},
   "outputs": [],
   "source": [
    "def still_gauss(state):\n",
    "    c = np.zeros((8,8388608),dtype=bool)\n",
    "\n",
    "    c[0] = (r[state[:,12],1]+r[state[:,13],2])%2 == 0\n",
    "    c[1] = (r[state[:,13],1]+r[state[:,14],2])%2 == 0\n",
    "    c[2] = (r[state[:,14],1]+r[state[:,15],2])%2 == 0\n",
    "    c[3] = (r[state[:,15],1]+r[state[:,12],2])%2 == 0\n",
    "\n",
    "    c[4] = (r[state[:,0],0]) == 0\n",
    "    c[5] = (r[state[:,1],0]) == 0\n",
    "    c[6] = (r[state[:,2],0]) == 0\n",
    "    c[7] = (r[state[:,3],0]) == 0\n",
    "\n",
    "    return np.all(c,axis=0)"
   ]
  },
  {
   "cell_type": "code",
   "execution_count": 9,
   "id": "3876f2ef",
   "metadata": {},
   "outputs": [],
   "source": [
    "cond = still_gauss(gauge_indices_base4)"
   ]
  },
  {
   "cell_type": "code",
   "execution_count": 14,
   "id": "8483d065",
   "metadata": {},
   "outputs": [],
   "source": [
    "np.savetxt(\"gauge_indices_red.txt\", gauge_indices[cond])"
   ]
  }
 ],
 "metadata": {
  "kernelspec": {
   "display_name": ".venv",
   "language": "python",
   "name": "python3"
  },
  "language_info": {
   "codemirror_mode": {
    "name": "ipython",
    "version": 3
   },
   "file_extension": ".py",
   "mimetype": "text/x-python",
   "name": "python",
   "nbconvert_exporter": "python",
   "pygments_lexer": "ipython3",
   "version": "3.12.3"
  }
 },
 "nbformat": 4,
 "nbformat_minor": 5
}
